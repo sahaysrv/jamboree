{
 "cells": [
  {
   "cell_type": "code",
   "execution_count": 55,
   "metadata": {},
   "outputs": [],
   "source": [
    "import pandas as pd\n",
    "import numpy as np"
   ]
  },
  {
   "cell_type": "code",
   "execution_count": 56,
   "metadata": {},
   "outputs": [],
   "source": [
    "df=pd.read_csv(\"C:/Users/sahay/OneDrive/Desktop/ML/Projects/jamboree/notebook/data/raw.csv\")"
   ]
  },
  {
   "cell_type": "markdown",
   "metadata": {},
   "source": [
    "## Data Preprocessing"
   ]
  },
  {
   "cell_type": "code",
   "execution_count": 57,
   "metadata": {},
   "outputs": [
    {
     "data": {
      "text/html": [
       "<div>\n",
       "<style scoped>\n",
       "    .dataframe tbody tr th:only-of-type {\n",
       "        vertical-align: middle;\n",
       "    }\n",
       "\n",
       "    .dataframe tbody tr th {\n",
       "        vertical-align: top;\n",
       "    }\n",
       "\n",
       "    .dataframe thead th {\n",
       "        text-align: right;\n",
       "    }\n",
       "</style>\n",
       "<table border=\"1\" class=\"dataframe\">\n",
       "  <thead>\n",
       "    <tr style=\"text-align: right;\">\n",
       "      <th></th>\n",
       "      <th>GRE Score</th>\n",
       "      <th>TOEFL Score</th>\n",
       "      <th>University Rating</th>\n",
       "      <th>SOP</th>\n",
       "      <th>LOR</th>\n",
       "      <th>CGPA</th>\n",
       "      <th>Research</th>\n",
       "      <th>Chance of Admit</th>\n",
       "    </tr>\n",
       "  </thead>\n",
       "  <tbody>\n",
       "    <tr>\n",
       "      <th>0</th>\n",
       "      <td>337</td>\n",
       "      <td>118</td>\n",
       "      <td>4</td>\n",
       "      <td>4.5</td>\n",
       "      <td>4.5</td>\n",
       "      <td>9.65</td>\n",
       "      <td>1</td>\n",
       "      <td>0.92</td>\n",
       "    </tr>\n",
       "    <tr>\n",
       "      <th>1</th>\n",
       "      <td>324</td>\n",
       "      <td>107</td>\n",
       "      <td>4</td>\n",
       "      <td>4.0</td>\n",
       "      <td>4.5</td>\n",
       "      <td>8.87</td>\n",
       "      <td>1</td>\n",
       "      <td>0.76</td>\n",
       "    </tr>\n",
       "    <tr>\n",
       "      <th>2</th>\n",
       "      <td>316</td>\n",
       "      <td>104</td>\n",
       "      <td>3</td>\n",
       "      <td>3.0</td>\n",
       "      <td>3.5</td>\n",
       "      <td>8.00</td>\n",
       "      <td>1</td>\n",
       "      <td>0.72</td>\n",
       "    </tr>\n",
       "    <tr>\n",
       "      <th>3</th>\n",
       "      <td>322</td>\n",
       "      <td>110</td>\n",
       "      <td>3</td>\n",
       "      <td>3.5</td>\n",
       "      <td>2.5</td>\n",
       "      <td>8.67</td>\n",
       "      <td>1</td>\n",
       "      <td>0.80</td>\n",
       "    </tr>\n",
       "    <tr>\n",
       "      <th>4</th>\n",
       "      <td>314</td>\n",
       "      <td>103</td>\n",
       "      <td>2</td>\n",
       "      <td>2.0</td>\n",
       "      <td>3.0</td>\n",
       "      <td>8.21</td>\n",
       "      <td>0</td>\n",
       "      <td>0.65</td>\n",
       "    </tr>\n",
       "  </tbody>\n",
       "</table>\n",
       "</div>"
      ],
      "text/plain": [
       "   GRE Score  TOEFL Score  University Rating  SOP  LOR  CGPA  Research  \\\n",
       "0        337          118                  4  4.5  4.5  9.65         1   \n",
       "1        324          107                  4  4.0  4.5  8.87         1   \n",
       "2        316          104                  3  3.0  3.5  8.00         1   \n",
       "3        322          110                  3  3.5  2.5  8.67         1   \n",
       "4        314          103                  2  2.0  3.0  8.21         0   \n",
       "\n",
       "   Chance of Admit  \n",
       "0             0.92  \n",
       "1             0.76  \n",
       "2             0.72  \n",
       "3             0.80  \n",
       "4             0.65  "
      ]
     },
     "execution_count": 57,
     "metadata": {},
     "output_type": "execute_result"
    }
   ],
   "source": [
    "\n",
    "df.head()"
   ]
  },
  {
   "cell_type": "code",
   "execution_count": 58,
   "metadata": {},
   "outputs": [
    {
     "data": {
      "text/plain": [
       "Chance of Admit      1.000000\n",
       "CGPA                 0.882559\n",
       "GRE Score            0.810639\n",
       "TOEFL Score          0.792549\n",
       "University Rating    0.690531\n",
       "SOP                  0.684676\n",
       "LOR                  0.645972\n",
       "Research             0.542912\n",
       "Name: Chance of Admit, dtype: float64"
      ]
     },
     "execution_count": 58,
     "metadata": {},
     "output_type": "execute_result"
    }
   ],
   "source": [
    "corr_matrix=df.corr()\n",
    "\n",
    "corr_matrix['Chance of Admit'].sort_values(ascending=False)"
   ]
  },
  {
   "cell_type": "code",
   "execution_count": 59,
   "metadata": {},
   "outputs": [],
   "source": [
    "X=df.iloc[:,:-1]\n",
    "y=df.iloc[:,-1]"
   ]
  },
  {
   "cell_type": "code",
   "execution_count": 60,
   "metadata": {},
   "outputs": [
    {
     "data": {
      "text/html": [
       "<div>\n",
       "<style scoped>\n",
       "    .dataframe tbody tr th:only-of-type {\n",
       "        vertical-align: middle;\n",
       "    }\n",
       "\n",
       "    .dataframe tbody tr th {\n",
       "        vertical-align: top;\n",
       "    }\n",
       "\n",
       "    .dataframe thead th {\n",
       "        text-align: right;\n",
       "    }\n",
       "</style>\n",
       "<table border=\"1\" class=\"dataframe\">\n",
       "  <thead>\n",
       "    <tr style=\"text-align: right;\">\n",
       "      <th></th>\n",
       "      <th>GRE Score</th>\n",
       "      <th>TOEFL Score</th>\n",
       "      <th>University Rating</th>\n",
       "      <th>SOP</th>\n",
       "      <th>LOR</th>\n",
       "      <th>CGPA</th>\n",
       "      <th>Research</th>\n",
       "    </tr>\n",
       "  </thead>\n",
       "  <tbody>\n",
       "    <tr>\n",
       "      <th>0</th>\n",
       "      <td>337</td>\n",
       "      <td>118</td>\n",
       "      <td>4</td>\n",
       "      <td>4.5</td>\n",
       "      <td>4.5</td>\n",
       "      <td>9.65</td>\n",
       "      <td>1</td>\n",
       "    </tr>\n",
       "    <tr>\n",
       "      <th>1</th>\n",
       "      <td>324</td>\n",
       "      <td>107</td>\n",
       "      <td>4</td>\n",
       "      <td>4.0</td>\n",
       "      <td>4.5</td>\n",
       "      <td>8.87</td>\n",
       "      <td>1</td>\n",
       "    </tr>\n",
       "    <tr>\n",
       "      <th>2</th>\n",
       "      <td>316</td>\n",
       "      <td>104</td>\n",
       "      <td>3</td>\n",
       "      <td>3.0</td>\n",
       "      <td>3.5</td>\n",
       "      <td>8.00</td>\n",
       "      <td>1</td>\n",
       "    </tr>\n",
       "    <tr>\n",
       "      <th>3</th>\n",
       "      <td>322</td>\n",
       "      <td>110</td>\n",
       "      <td>3</td>\n",
       "      <td>3.5</td>\n",
       "      <td>2.5</td>\n",
       "      <td>8.67</td>\n",
       "      <td>1</td>\n",
       "    </tr>\n",
       "    <tr>\n",
       "      <th>4</th>\n",
       "      <td>314</td>\n",
       "      <td>103</td>\n",
       "      <td>2</td>\n",
       "      <td>2.0</td>\n",
       "      <td>3.0</td>\n",
       "      <td>8.21</td>\n",
       "      <td>0</td>\n",
       "    </tr>\n",
       "  </tbody>\n",
       "</table>\n",
       "</div>"
      ],
      "text/plain": [
       "   GRE Score  TOEFL Score  University Rating  SOP  LOR  CGPA  Research\n",
       "0        337          118                  4  4.5  4.5  9.65         1\n",
       "1        324          107                  4  4.0  4.5  8.87         1\n",
       "2        316          104                  3  3.0  3.5  8.00         1\n",
       "3        322          110                  3  3.5  2.5  8.67         1\n",
       "4        314          103                  2  2.0  3.0  8.21         0"
      ]
     },
     "execution_count": 60,
     "metadata": {},
     "output_type": "execute_result"
    }
   ],
   "source": [
    "X.head()"
   ]
  },
  {
   "cell_type": "code",
   "execution_count": 61,
   "metadata": {},
   "outputs": [
    {
     "data": {
      "text/plain": [
       "0    0.92\n",
       "1    0.76\n",
       "2    0.72\n",
       "3    0.80\n",
       "4    0.65\n",
       "Name: Chance of Admit, dtype: float64"
      ]
     },
     "execution_count": 61,
     "metadata": {},
     "output_type": "execute_result"
    }
   ],
   "source": [
    "y.head()"
   ]
  },
  {
   "cell_type": "code",
   "execution_count": 62,
   "metadata": {},
   "outputs": [],
   "source": [
    "#Standardization\n",
    "from sklearn.preprocessing import StandardScaler\n",
    "X_columns=X.columns\n",
    "std=StandardScaler()\n",
    "X=std.fit_transform(X)"
   ]
  },
  {
   "cell_type": "code",
   "execution_count": 63,
   "metadata": {},
   "outputs": [
    {
     "data": {
      "text/plain": [
       "array([[ 1.81761336,  1.77711354,  0.774343  , ...,  1.09652618,\n",
       "         1.77600627,  0.88841753],\n",
       "       [ 0.66537316, -0.03351185,  0.774343  , ...,  1.09652618,\n",
       "         0.48452758,  0.88841753],\n",
       "       [-0.04369773, -0.52731877, -0.10138125, ...,  0.01510961,\n",
       "        -0.95596787,  0.88841753],\n",
       "       ...,\n",
       "       [-0.39823318, -0.69192108,  0.774343  , ...,  1.63723446,\n",
       "        -0.24399885, -1.12559688],\n",
       "       [ 0.93127475,  0.954102  ,  0.774343  , ...,  1.09652618,\n",
       "         0.76600371, -1.12559688],\n",
       "       [ 0.93127475,  0.954102  ,  0.774343  , ...,  1.09652618,\n",
       "         0.76600371, -1.12559688]], shape=(501, 7))"
      ]
     },
     "execution_count": 63,
     "metadata": {},
     "output_type": "execute_result"
    }
   ],
   "source": [
    "X"
   ]
  },
  {
   "cell_type": "code",
   "execution_count": 64,
   "metadata": {},
   "outputs": [
    {
     "data": {
      "text/html": [
       "<div>\n",
       "<style scoped>\n",
       "    .dataframe tbody tr th:only-of-type {\n",
       "        vertical-align: middle;\n",
       "    }\n",
       "\n",
       "    .dataframe tbody tr th {\n",
       "        vertical-align: top;\n",
       "    }\n",
       "\n",
       "    .dataframe thead th {\n",
       "        text-align: right;\n",
       "    }\n",
       "</style>\n",
       "<table border=\"1\" class=\"dataframe\">\n",
       "  <thead>\n",
       "    <tr style=\"text-align: right;\">\n",
       "      <th></th>\n",
       "      <th>GRE Score</th>\n",
       "      <th>TOEFL Score</th>\n",
       "      <th>University Rating</th>\n",
       "      <th>SOP</th>\n",
       "      <th>LOR</th>\n",
       "      <th>CGPA</th>\n",
       "      <th>Research</th>\n",
       "    </tr>\n",
       "  </thead>\n",
       "  <tbody>\n",
       "    <tr>\n",
       "      <th>0</th>\n",
       "      <td>1.817613</td>\n",
       "      <td>1.777114</td>\n",
       "      <td>0.774343</td>\n",
       "      <td>1.134760</td>\n",
       "      <td>1.096526</td>\n",
       "      <td>1.776006</td>\n",
       "      <td>0.888418</td>\n",
       "    </tr>\n",
       "    <tr>\n",
       "      <th>1</th>\n",
       "      <td>0.665373</td>\n",
       "      <td>-0.033512</td>\n",
       "      <td>0.774343</td>\n",
       "      <td>0.629862</td>\n",
       "      <td>1.096526</td>\n",
       "      <td>0.484528</td>\n",
       "      <td>0.888418</td>\n",
       "    </tr>\n",
       "    <tr>\n",
       "      <th>2</th>\n",
       "      <td>-0.043698</td>\n",
       "      <td>-0.527319</td>\n",
       "      <td>-0.101381</td>\n",
       "      <td>-0.379933</td>\n",
       "      <td>0.015110</td>\n",
       "      <td>-0.955968</td>\n",
       "      <td>0.888418</td>\n",
       "    </tr>\n",
       "    <tr>\n",
       "      <th>3</th>\n",
       "      <td>0.488105</td>\n",
       "      <td>0.460295</td>\n",
       "      <td>-0.101381</td>\n",
       "      <td>0.124965</td>\n",
       "      <td>-1.066307</td>\n",
       "      <td>0.153379</td>\n",
       "      <td>0.888418</td>\n",
       "    </tr>\n",
       "    <tr>\n",
       "      <th>4</th>\n",
       "      <td>-0.220965</td>\n",
       "      <td>-0.691921</td>\n",
       "      <td>-0.977106</td>\n",
       "      <td>-1.389728</td>\n",
       "      <td>-0.525599</td>\n",
       "      <td>-0.608262</td>\n",
       "      <td>-1.125597</td>\n",
       "    </tr>\n",
       "  </tbody>\n",
       "</table>\n",
       "</div>"
      ],
      "text/plain": [
       "   GRE Score  TOEFL Score  University Rating       SOP       LOR      CGPA  \\\n",
       "0   1.817613     1.777114           0.774343  1.134760  1.096526  1.776006   \n",
       "1   0.665373    -0.033512           0.774343  0.629862  1.096526  0.484528   \n",
       "2  -0.043698    -0.527319          -0.101381 -0.379933  0.015110 -0.955968   \n",
       "3   0.488105     0.460295          -0.101381  0.124965 -1.066307  0.153379   \n",
       "4  -0.220965    -0.691921          -0.977106 -1.389728 -0.525599 -0.608262   \n",
       "\n",
       "   Research  \n",
       "0  0.888418  \n",
       "1  0.888418  \n",
       "2  0.888418  \n",
       "3  0.888418  \n",
       "4 -1.125597  "
      ]
     },
     "execution_count": 64,
     "metadata": {},
     "output_type": "execute_result"
    }
   ],
   "source": [
    "X=pd.DataFrame(X,columns=X_columns)\n",
    "X.head()"
   ]
  },
  {
   "cell_type": "code",
   "execution_count": 65,
   "metadata": {},
   "outputs": [],
   "source": [
    "#splitting the data into training and test set\n",
    "from sklearn.model_selection import train_test_split,KFold\n",
    "X_train,X_test,y_train,y_test=train_test_split(X,y,test_size=0.2,random_state=42)"
   ]
  },
  {
   "cell_type": "code",
   "execution_count": 66,
   "metadata": {},
   "outputs": [
    {
     "data": {
      "text/html": [
       "<div>\n",
       "<style scoped>\n",
       "    .dataframe tbody tr th:only-of-type {\n",
       "        vertical-align: middle;\n",
       "    }\n",
       "\n",
       "    .dataframe tbody tr th {\n",
       "        vertical-align: top;\n",
       "    }\n",
       "\n",
       "    .dataframe thead th {\n",
       "        text-align: right;\n",
       "    }\n",
       "</style>\n",
       "<table border=\"1\" class=\"dataframe\">\n",
       "  <thead>\n",
       "    <tr style=\"text-align: right;\">\n",
       "      <th></th>\n",
       "      <th>GRE Score</th>\n",
       "      <th>TOEFL Score</th>\n",
       "      <th>University Rating</th>\n",
       "      <th>SOP</th>\n",
       "      <th>LOR</th>\n",
       "      <th>CGPA</th>\n",
       "      <th>Research</th>\n",
       "    </tr>\n",
       "  </thead>\n",
       "  <tbody>\n",
       "    <tr>\n",
       "      <th>386</th>\n",
       "      <td>-1.284572</td>\n",
       "      <td>-1.021126</td>\n",
       "      <td>-0.977106</td>\n",
       "      <td>-0.884831</td>\n",
       "      <td>0.015110</td>\n",
       "      <td>-1.022198</td>\n",
       "      <td>-1.125597</td>\n",
       "    </tr>\n",
       "    <tr>\n",
       "      <th>19</th>\n",
       "      <td>-1.195938</td>\n",
       "      <td>-0.856523</td>\n",
       "      <td>-0.101381</td>\n",
       "      <td>0.124965</td>\n",
       "      <td>-0.525599</td>\n",
       "      <td>-0.128097</td>\n",
       "      <td>-1.125597</td>\n",
       "    </tr>\n",
       "    <tr>\n",
       "      <th>322</th>\n",
       "      <td>-0.220965</td>\n",
       "      <td>-0.033512</td>\n",
       "      <td>-0.977106</td>\n",
       "      <td>-0.884831</td>\n",
       "      <td>0.555818</td>\n",
       "      <td>-0.508918</td>\n",
       "      <td>-1.125597</td>\n",
       "    </tr>\n",
       "    <tr>\n",
       "      <th>332</th>\n",
       "      <td>-0.752769</td>\n",
       "      <td>-0.198114</td>\n",
       "      <td>-0.101381</td>\n",
       "      <td>0.124965</td>\n",
       "      <td>-1.066307</td>\n",
       "      <td>-0.608262</td>\n",
       "      <td>0.888418</td>\n",
       "    </tr>\n",
       "    <tr>\n",
       "      <th>56</th>\n",
       "      <td>-0.043698</td>\n",
       "      <td>-0.856523</td>\n",
       "      <td>-0.101381</td>\n",
       "      <td>-1.389728</td>\n",
       "      <td>-0.525599</td>\n",
       "      <td>-1.949413</td>\n",
       "      <td>-1.125597</td>\n",
       "    </tr>\n",
       "    <tr>\n",
       "      <th>...</th>\n",
       "      <td>...</td>\n",
       "      <td>...</td>\n",
       "      <td>...</td>\n",
       "      <td>...</td>\n",
       "      <td>...</td>\n",
       "      <td>...</td>\n",
       "      <td>...</td>\n",
       "    </tr>\n",
       "    <tr>\n",
       "      <th>106</th>\n",
       "      <td>1.108542</td>\n",
       "      <td>0.624897</td>\n",
       "      <td>0.774343</td>\n",
       "      <td>1.134760</td>\n",
       "      <td>1.096526</td>\n",
       "      <td>0.997808</td>\n",
       "      <td>0.888418</td>\n",
       "    </tr>\n",
       "    <tr>\n",
       "      <th>270</th>\n",
       "      <td>-0.930036</td>\n",
       "      <td>-0.362716</td>\n",
       "      <td>-0.977106</td>\n",
       "      <td>-0.884831</td>\n",
       "      <td>-0.525599</td>\n",
       "      <td>-0.591705</td>\n",
       "      <td>0.888418</td>\n",
       "    </tr>\n",
       "    <tr>\n",
       "      <th>348</th>\n",
       "      <td>-1.284572</td>\n",
       "      <td>-1.350330</td>\n",
       "      <td>-1.852830</td>\n",
       "      <td>-1.389728</td>\n",
       "      <td>-1.607015</td>\n",
       "      <td>-2.197774</td>\n",
       "      <td>-1.125597</td>\n",
       "    </tr>\n",
       "    <tr>\n",
       "      <th>435</th>\n",
       "      <td>-0.664135</td>\n",
       "      <td>-0.362716</td>\n",
       "      <td>-0.977106</td>\n",
       "      <td>-0.884831</td>\n",
       "      <td>0.555818</td>\n",
       "      <td>-1.485805</td>\n",
       "      <td>-1.125597</td>\n",
       "    </tr>\n",
       "    <tr>\n",
       "      <th>102</th>\n",
       "      <td>-0.220965</td>\n",
       "      <td>-0.198114</td>\n",
       "      <td>-0.977106</td>\n",
       "      <td>0.629862</td>\n",
       "      <td>0.015110</td>\n",
       "      <td>-0.542032</td>\n",
       "      <td>-1.125597</td>\n",
       "    </tr>\n",
       "  </tbody>\n",
       "</table>\n",
       "<p>400 rows × 7 columns</p>\n",
       "</div>"
      ],
      "text/plain": [
       "     GRE Score  TOEFL Score  University Rating       SOP       LOR      CGPA  \\\n",
       "386  -1.284572    -1.021126          -0.977106 -0.884831  0.015110 -1.022198   \n",
       "19   -1.195938    -0.856523          -0.101381  0.124965 -0.525599 -0.128097   \n",
       "322  -0.220965    -0.033512          -0.977106 -0.884831  0.555818 -0.508918   \n",
       "332  -0.752769    -0.198114          -0.101381  0.124965 -1.066307 -0.608262   \n",
       "56   -0.043698    -0.856523          -0.101381 -1.389728 -0.525599 -1.949413   \n",
       "..         ...          ...                ...       ...       ...       ...   \n",
       "106   1.108542     0.624897           0.774343  1.134760  1.096526  0.997808   \n",
       "270  -0.930036    -0.362716          -0.977106 -0.884831 -0.525599 -0.591705   \n",
       "348  -1.284572    -1.350330          -1.852830 -1.389728 -1.607015 -2.197774   \n",
       "435  -0.664135    -0.362716          -0.977106 -0.884831  0.555818 -1.485805   \n",
       "102  -0.220965    -0.198114          -0.977106  0.629862  0.015110 -0.542032   \n",
       "\n",
       "     Research  \n",
       "386 -1.125597  \n",
       "19  -1.125597  \n",
       "322 -1.125597  \n",
       "332  0.888418  \n",
       "56  -1.125597  \n",
       "..        ...  \n",
       "106  0.888418  \n",
       "270  0.888418  \n",
       "348 -1.125597  \n",
       "435 -1.125597  \n",
       "102 -1.125597  \n",
       "\n",
       "[400 rows x 7 columns]"
      ]
     },
     "execution_count": 66,
     "metadata": {},
     "output_type": "execute_result"
    }
   ],
   "source": [
    "X_train"
   ]
  },
  {
   "cell_type": "markdown",
   "metadata": {},
   "source": [
    "### Model Development"
   ]
  },
  {
   "cell_type": "code",
   "execution_count": 67,
   "metadata": {},
   "outputs": [],
   "source": [
    "from sklearn.linear_model import LinearRegression\n",
    "from sklearn.metrics import mean_squared_error, r2_score\n",
    "from sklearn.linear_model import Lasso,Ridge\n"
   ]
  },
  {
   "cell_type": "code",
   "execution_count": 68,
   "metadata": {},
   "outputs": [],
   "source": [
    "#create an evalute function to give to all metrics after model training\n",
    "def evaluate_model(true,predicted):\n",
    "    mse=mean_squared_error(true,predicted)\n",
    "    r2=r2_score(true,predicted)\n",
    "    return(mse,r2)"
   ]
  },
  {
   "cell_type": "code",
   "execution_count": 69,
   "metadata": {},
   "outputs": [
    {
     "name": "stdout",
     "output_type": "stream",
     "text": [
      "LR\n",
      "Model performance for Trainin Set\n",
      "-Mean Squared Error: 0.0036\n",
      "-R2 Score: 0.8192\n",
      "--------------------------------\n",
      "Model performance for Test Set\n",
      "-Mean Squared Error: 0.0033\n",
      "-R2 Score: 0.8308\n",
      "===================================\n",
      "\n",
      "\n",
      "L1\n",
      "Model performance for Trainin Set\n",
      "-Mean Squared Error: 0.0199\n",
      "-R2 Score: 0.0000\n",
      "--------------------------------\n",
      "Model performance for Test Set\n",
      "-Mean Squared Error: 0.0198\n",
      "-R2 Score: -0.0107\n",
      "===================================\n",
      "\n",
      "\n",
      "L2\n",
      "Model performance for Trainin Set\n",
      "-Mean Squared Error: 0.0036\n",
      "-R2 Score: 0.8192\n",
      "--------------------------------\n",
      "Model performance for Test Set\n",
      "-Mean Squared Error: 0.0033\n",
      "-R2 Score: 0.8308\n",
      "===================================\n",
      "\n",
      "\n"
     ]
    }
   ],
   "source": [
    "models={\n",
    "    \"LR\":LinearRegression(),\n",
    "    \"L1\":Lasso(),\n",
    "    \"L2\":Ridge()\n",
    "}\n",
    "\n",
    "model_list=[]\n",
    "r2_list=[]\n",
    "\n",
    "for i in range(len(list(models))):\n",
    "    model=list(models.values())[i]\n",
    "    model.fit(X_train,y_train)\n",
    "    \n",
    "    #Make Predictions\n",
    "    y_train_pred=model.predict(X_train)\n",
    "    y_test_pred=model.predict(X_test)\n",
    "\n",
    "    #Evaluate train,validation and test set\n",
    "    model_train_mse,model_train_r2=evaluate_model(y_train,y_train_pred)\n",
    "    model_test_mse,model_test_r2=evaluate_model(y_test,y_test_pred)\n",
    "\n",
    "    print(list(models.keys())[i])\n",
    "    model_list.append(list(models.keys())[i])\n",
    "\n",
    "    print('Model performance for Trainin Set')\n",
    "    print(\"-Mean Squared Error: {:.4f}\".format(model_train_mse))\n",
    "    print(\"-R2 Score: {:.4f}\".format(model_train_r2))\n",
    "\n",
    "  \n",
    "    print('--------------------------------')\n",
    "    print('Model performance for Test Set')\n",
    "    print(\"-Mean Squared Error: {:.4f}\".format(model_test_mse))\n",
    "    print(\"-R2 Score: {:.4f}\".format(model_test_r2))\n",
    "    r2_list.append(model_test_r2)\n",
    "\n",
    "    print('='*35)\n",
    "    print('\\n')"
   ]
  },
  {
   "cell_type": "code",
   "execution_count": 70,
   "metadata": {},
   "outputs": [],
   "source": [
    "#hyper parameter tuning\n",
    "parameters={'alpha':[1,2,5,7,9,11,13]}"
   ]
  },
  {
   "cell_type": "code",
   "execution_count": 71,
   "metadata": {},
   "outputs": [],
   "source": [
    "#model list for hyper paramter tuning\n",
    "gridcv_models=[\n",
    "    ('L1',Lasso(),parameters),\n",
    "    ('L2',Ridge(),parameters)\n",
    "]"
   ]
  },
  {
   "cell_type": "code",
   "execution_count": 72,
   "metadata": {},
   "outputs": [
    {
     "data": {
      "text/plain": [
       "[('L1', Lasso(), {'alpha': [1, 2, 5, 7, 9, 11, 13]}),\n",
       " ('L2', Ridge(), {'alpha': [1, 2, 5, 7, 9, 11, 13]})]"
      ]
     },
     "execution_count": 72,
     "metadata": {},
     "output_type": "execute_result"
    }
   ],
   "source": [
    "gridcv_models"
   ]
  },
  {
   "cell_type": "code",
   "execution_count": 73,
   "metadata": {},
   "outputs": [
    {
     "name": "stdout",
     "output_type": "stream",
     "text": [
      "-------------------- Best Params for L1-----------\n",
      "{'alpha': 7}\n",
      "-------------------- Best Params for L2-----------\n",
      "{'alpha': 7}\n"
     ]
    }
   ],
   "source": [
    "from sklearn.model_selection import GridSearchCV\n",
    "\n",
    "model_params={}\n",
    "for name,models,params in gridcv_models:\n",
    "    grid_search=GridSearchCV(estimator=model,\n",
    "                      param_grid=parameters,\n",
    "                      cv=5,\n",
    "                      scoring='neg_mean_squared_error')\n",
    "    \n",
    "    grid_search.fit(X_train,y_train)\n",
    "    model_params[name]=grid_search.best_params_\n",
    "\n",
    "for model_name in model_params:\n",
    "    print(f\"-------------------- Best Params for {model_name}-----------\")\n",
    "    print(model_params[model_name])"
   ]
  },
  {
   "cell_type": "code",
   "execution_count": 74,
   "metadata": {},
   "outputs": [
    {
     "name": "stdout",
     "output_type": "stream",
     "text": [
      "Best Params: {'alpha': 7}\n",
      "Best score: -0.00377715141096035\n"
     ]
    }
   ],
   "source": [
    "grid_search.fit(X_train,y_train)\n",
    "print(\"Best Params:\", grid_search.best_params_)\n",
    "print(\"Best score:\", grid_search.best_score_)"
   ]
  },
  {
   "cell_type": "code",
   "execution_count": 75,
   "metadata": {},
   "outputs": [],
   "source": [
    "y_pred=grid_search.predict(X_test)"
   ]
  },
  {
   "cell_type": "code",
   "execution_count": 76,
   "metadata": {},
   "outputs": [
    {
     "data": {
      "text/plain": [
       "'80.36%'"
      ]
     },
     "execution_count": 76,
     "metadata": {},
     "output_type": "execute_result"
    }
   ],
   "source": [
    "r2_score=r2_score(y_test_pred,y_test)\n",
    "r2_score=f\"{r2_score * 100:.2f}%\" \n",
    "r2_score"
   ]
  },
  {
   "cell_type": "markdown",
   "metadata": {},
   "source": [
    "### Residuals"
   ]
  },
  {
   "cell_type": "code",
   "execution_count": 77,
   "metadata": {},
   "outputs": [
    {
     "name": "stdout",
     "output_type": "stream",
     "text": [
      "mean of residuals-0.007087420974054343\n"
     ]
    }
   ],
   "source": [
    "residual=y_test.values-y_test_pred\n",
    "mean_residual=np.mean(residual)\n",
    "print('mean of residuals{}'.format(mean_residual))"
   ]
  },
  {
   "cell_type": "code",
   "execution_count": 78,
   "metadata": {},
   "outputs": [],
   "source": [
    "import seaborn as sns"
   ]
  },
  {
   "cell_type": "code",
   "execution_count": 79,
   "metadata": {},
   "outputs": [
    {
     "data": {
      "text/plain": [
       "<seaborn.axisgrid.FacetGrid at 0x22c55c31d00>"
      ]
     },
     "execution_count": 79,
     "metadata": {},
     "output_type": "execute_result"
    },
    {
     "data": {
      "image/png": "[encoded data removed]",
      "text/plain": [
       "<Figure size 500x500 with 1 Axes>"
      ]
     },
     "metadata": {},
     "output_type": "display_data"
    }
   ],
   "source": [
    "sns.displot(residual,kde=True)"
   ]
  },
  {
   "cell_type": "code",
   "execution_count": 80,
   "metadata": {},
   "outputs": [
    {
     "data": {
      "image/png": "[encoded data removed]",
      "text/plain": [
       "<Figure size 640x480 with 1 Axes>"
      ]
     },
     "metadata": {},
     "output_type": "display_data"
    }
   ],
   "source": [
    "import matplotlib.pyplot as plt\n",
    "\n",
    "plt.scatter(y_test, y_pred)\n",
    "plt.xlabel('Actual Values')\n",
    "plt.ylabel('Predicted Values')\n",
    "plt.title('Actual vs Predicted Values')\n",
    "plt.show()"
   ]
  },
  {
   "cell_type": "code",
   "execution_count": 81,
   "metadata": {},
   "outputs": [
    {
     "data": {
      "image/png": "[encoded data removed]",
      "text/plain": [
       "<Figure size 640x480 with 1 Axes>"
      ]
     },
     "metadata": {},
     "output_type": "display_data"
    }
   ],
   "source": [
    "p = sns.scatterplot(x=y_test_pred,y=residual)\n",
    "plt.xlabel('predicted values')\n",
    "plt.ylabel('Residuals')\n",
    "plt.ylim(-0.4,0.4)\n",
    "plt.xlim(0,1)\n",
    "p = sns.lineplot([0,0],color='blue')\n"
   ]
  },
  {
   "cell_type": "code",
   "execution_count": null,
   "metadata": {},
   "outputs": [],
   "source": []
  },
  {
   "cell_type": "code",
   "execution_count": null,
   "metadata": {},
   "outputs": [],
   "source": []
  }
 ],
 "metadata": {
  "kernelspec": {
   "display_name": "jmb",
   "language": "python",
   "name": "python3"
  },
  "language_info": {
   "codemirror_mode": {
    "name": "ipython",
    "version": 3
   },
   "file_extension": ".py",
   "mimetype": "text/x-python",
   "name": "python",
   "nbconvert_exporter": "python",
   "pygments_lexer": "ipython3",
   "version": "3.12.0"
  }
 },
 "nbformat": 4,
 "nbformat_minor": 2
}
